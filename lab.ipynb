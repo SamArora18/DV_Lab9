{
 "cells": [
  {
   "cell_type": "code",
   "execution_count": 9,
   "metadata": {},
   "outputs": [
    {
     "name": "stdout",
     "output_type": "stream",
     "text": [
      "Dash is running on http://127.0.0.1:8050/\n",
      "\n",
      " * Serving Flask app '__main__'\n",
      " * Debug mode: off\n"
     ]
    },
    {
     "name": "stderr",
     "output_type": "stream",
     "text": [
      "\u001b[31m\u001b[1mWARNING: This is a development server. Do not use it in a production deployment. Use a production WSGI server instead.\u001b[0m\n",
      " * Running on http://127.0.0.1:8050\n",
      "\u001b[33mPress CTRL+C to quit\u001b[0m\n",
      "127.0.0.1 - - [26/Apr/2023 21:06:43] \"GET / HTTP/1.1\" 200 -\n",
      "127.0.0.1 - - [26/Apr/2023 21:06:43] \"GET /_dash-component-suites/dash/deps/polyfill@7.v2_9_3m1682522925.12.1.min.js HTTP/1.1\" 200 -\n",
      "127.0.0.1 - - [26/Apr/2023 21:06:43] \"GET /_dash-component-suites/dash/deps/react@16.v2_9_3m1682522925.14.0.min.js HTTP/1.1\" 200 -\n",
      "127.0.0.1 - - [26/Apr/2023 21:06:43] \"GET /_dash-component-suites/dash/deps/prop-types@15.v2_9_3m1682522925.8.1.min.js HTTP/1.1\" 200 -\n",
      "127.0.0.1 - - [26/Apr/2023 21:06:43] \"GET /_dash-component-suites/dash/deps/react-dom@16.v2_9_3m1682522925.14.0.min.js HTTP/1.1\" 200 -\n",
      "127.0.0.1 - - [26/Apr/2023 21:06:43] \"GET /_dash-component-suites/dash/dash-renderer/build/dash_renderer.v2_9_3m1682522924.min.js HTTP/1.1\" 200 -\n",
      "127.0.0.1 - - [26/Apr/2023 21:06:43] \"GET /_dash-component-suites/dash/dcc/dash_core_components-shared.v2_9_2m1682522925.js HTTP/1.1\" 200 -\n",
      "127.0.0.1 - - [26/Apr/2023 21:06:43] \"GET /_dash-component-suites/dash/html/dash_html_components.v2_0_11m1682522925.min.js HTTP/1.1\" 200 -\n",
      "127.0.0.1 - - [26/Apr/2023 21:06:43] \"GET /_dash-component-suites/dash/dcc/dash_core_components.v2_9_2m1682522925.js HTTP/1.1\" 200 -\n",
      "127.0.0.1 - - [26/Apr/2023 21:06:43] \"GET /_dash-component-suites/dash/dash_table/bundle.v5_2_4m1682522924.js HTTP/1.1\" 200 -\n",
      "127.0.0.1 - - [26/Apr/2023 21:06:44] \"GET /_dash-layout HTTP/1.1\" 200 -\n",
      "127.0.0.1 - - [26/Apr/2023 21:06:44] \"GET /_dash-dependencies HTTP/1.1\" 200 -\n",
      "127.0.0.1 - - [26/Apr/2023 21:06:45] \"GET /_dash-component-suites/dash/dcc/async-graph.js HTTP/1.1\" 200 -\n",
      "127.0.0.1 - - [26/Apr/2023 21:06:45] \"GET /_dash-component-suites/dash/dcc/async-plotlyjs.js HTTP/1.1\" 200 -\n",
      "127.0.0.1 - - [26/Apr/2023 21:06:45] \"GET /_favicon.ico?v=2.9.3 HTTP/1.1\" 200 -\n"
     ]
    }
   ],
   "source": [
    "import requests\n",
    "import json\n",
    "import dash\n",
    "import dash_core_components as dcc\n",
    "import dash_html_components as html\n",
    "\n",
    "response = requests.get('https://www.alphavantage.co/query?function=TIME_SERIES_INTRADAY&symbol=META&interval=15min&apikey=41XDMUMRFFQ3VBC3')\n",
    "\n",
    "if response.status_code == 200:\n",
    "    data = json.loads(response.content)\n",
    "else:\n",
    "    print('Error in fetching the data.')\n",
    "\n",
    "app = dash.Dash(__name__)\n",
    "\n",
    "app.layout = html.Div(children=[\n",
    "    html.H1(children='META Stock Data'),\n",
    "\n",
    "    dcc.Graph(\n",
    "        id='example-graph',\n",
    "        figure={\n",
    "            'data': [\n",
    "                {'x': list(data['Time Series (15min)'].keys()), 'y': [float(val['4. close']) for val in data['Time Series (15min)'].values()], 'type': 'line', 'name': 'META'},\n",
    "            ],\n",
    "            'layout': {\n",
    "                'title': 'META Stock Data'\n",
    "            }\n",
    "        }\n",
    "    )\n",
    "])\n",
    "\n",
    "if __name__ == '__main__':\n",
    "    app.run_server(debug=False)"
   ]
  }
 ],
 "metadata": {
  "kernelspec": {
   "display_name": "Python 3.10.10 64-bit",
   "language": "python",
   "name": "python3"
  },
  "language_info": {
   "codemirror_mode": {
    "name": "ipython",
    "version": 3
   },
   "file_extension": ".py",
   "mimetype": "text/x-python",
   "name": "python",
   "nbconvert_exporter": "python",
   "pygments_lexer": "ipython3",
   "version": "3.10.10"
  },
  "orig_nbformat": 4,
  "vscode": {
   "interpreter": {
    "hash": "aee8b7b246df8f9039afb4144a1f6fd8d2ca17a180786b69acc140d282b71a49"
   }
  }
 },
 "nbformat": 4,
 "nbformat_minor": 2
}
